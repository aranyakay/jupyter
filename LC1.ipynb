{
 "cells": [
  {
   "cell_type": "code",
   "execution_count": 2,
   "metadata": {
    "collapsed": true
   },
   "outputs": [],
   "source": [
    "#1. Two Sum\n",
    "\n",
    "# Given an array of integers, return indices of the two numbers such that they add \n",
    "# up to a specific target.\n",
    "# \n",
    "# You may assume that each input would have exactly one solution, and you may not \n",
    "# use the same element twice.\n",
    "# \n",
    "# Example:\n",
    "#   \n",
    "#   Given nums = [2, 7, 11, 15], target = 9,\n",
    "# \n",
    "# Because nums[0] + nums[1] = 2 + 7 = 9,\n",
    "# return [0, 1]."
   ]
  },
  {
   "cell_type": "code",
   "execution_count": 100,
   "metadata": {},
   "outputs": [],
   "source": [
    "input1 = [2,7,11,15]\n",
    "target = 9"
   ]
  },
  {
   "cell_type": "code",
   "execution_count": 110,
   "metadata": {},
   "outputs": [],
   "source": [
    "def returnTwo(input1, target):\n",
    "    for i in range(len(input1)):\n",
    "        input0 = input1[:i] + input1[(i+1):]\n",
    "        for j in range(len(input0)):\n",
    "            if((input1[i]+input0[j]) == target):\n",
    "                print (input1[i], input0[j])\n",
    "                break                "
   ]
  },
  {
   "cell_type": "code",
   "execution_count": 111,
   "metadata": {},
   "outputs": [
    {
     "name": "stdout",
     "output_type": "stream",
     "text": [
      "2 7\n",
      "7 2\n"
     ]
    }
   ],
   "source": [
    "returnTwo(input,target)"
   ]
  }
 ],
 "metadata": {
  "kernelspec": {
   "display_name": "Python 3",
   "language": "python",
   "name": "python3"
  },
  "language_info": {
   "codemirror_mode": {
    "name": "ipython",
    "version": 3
   },
   "file_extension": ".py",
   "mimetype": "text/x-python",
   "name": "python",
   "nbconvert_exporter": "python",
   "pygments_lexer": "ipython3",
   "version": "3.6.3"
  }
 },
 "nbformat": 4,
 "nbformat_minor": 2
}
