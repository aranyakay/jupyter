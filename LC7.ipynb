{
 "cells": [
  {
   "cell_type": "code",
   "execution_count": 2,
   "metadata": {
    "collapsed": true
   },
   "outputs": [],
   "source": [
    "# 7. Reverse Integer\n",
    "# \n",
    "# Given a 32-bit signed integer, reverse digits of an integer.\n",
    "# \n",
    "# Example 1:\n",
    "#   \n",
    "#   Input: 123\n",
    "# Output: 321\n",
    "# Example 2:\n",
    "#   \n",
    "#   Input: -123\n",
    "# Output: -321\n",
    "# Example 3:\n",
    "#   \n",
    "#   Input: 120\n",
    "# Output: 21\n",
    "# Note:\n",
    "#   Assume we are dealing with an environment which could only store integers within \n",
    "# the 32-bit signed integer range: [-2^31,  2^(31 -1)]. For the purpose of this problem, \n",
    "# assume that your function returns 0 when the reversed integer overflows."
   ]
  },
  {
   "cell_type": "code",
   "execution_count": 37,
   "metadata": {
    "collapsed": true
   },
   "outputs": [],
   "source": [
    "def reverseInt(input):\n",
    "    input0 = list(str(input))\n",
    "    if(input < -2**31 or input > (2**31 -1)):\n",
    "        input0 = ['0']\n",
    "    elif(input > 0):\n",
    "        input0 = input0[::-1]  #list(reversed(list(str(input))))\n",
    "    else:\n",
    "        input0 =  [input0[0]] + input0[:0:-1]\n",
    "    return int(''.join(input0))\n",
    "    "
   ]
  },
  {
   "cell_type": "code",
   "execution_count": 38,
   "metadata": {},
   "outputs": [
    {
     "data": {
      "text/plain": [
       "0"
      ]
     },
     "execution_count": 38,
     "metadata": {},
     "output_type": "execute_result"
    }
   ],
   "source": [
    "reverseInt(2**33)"
   ]
  },
  {
   "cell_type": "code",
   "execution_count": 39,
   "metadata": {},
   "outputs": [
    {
     "data": {
      "text/plain": [
       "-321"
      ]
     },
     "execution_count": 39,
     "metadata": {},
     "output_type": "execute_result"
    }
   ],
   "source": [
    "input = -123\n",
    "reverseInt(input)"
   ]
  }
 ],
 "metadata": {
  "kernelspec": {
   "display_name": "Python 3",
   "language": "python",
   "name": "python3"
  },
  "language_info": {
   "codemirror_mode": {
    "name": "ipython",
    "version": 3
   },
   "file_extension": ".py",
   "mimetype": "text/x-python",
   "name": "python",
   "nbconvert_exporter": "python",
   "pygments_lexer": "ipython3",
   "version": "3.6.3"
  }
 },
 "nbformat": 4,
 "nbformat_minor": 2
}
